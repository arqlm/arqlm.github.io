{
 "cells": [
  {
   "cell_type": "markdown",
   "id": "53e0e548",
   "metadata": {
    "language": "markdown"
   },
   "source": [
    "# Introducción a JupyterLab"
   ]
  },
  {
   "cell_type": "code",
   "execution_count": 1,
   "id": "3c24e793",
   "metadata": {
    "language": "python"
   },
   "outputs": [
    {
     "data": {
      "text/html": [
       "    <style>\n",
       "        .bk-notebook-logo {\n",
       "            display: block;\n",
       "            width: 20px;\n",
       "            height: 20px;\n",
       "            background-image: url(data:image/png;base64,iVBORw0KGgoAAAANSUhEUgAAABQAAAAUCAYAAACNiR0NAAAABHNCSVQICAgIfAhkiAAAAAlwSFlzAAALEgAACxIB0t1+/AAAABx0RVh0U29mdHdhcmUAQWRvYmUgRmlyZXdvcmtzIENTNui8sowAAAOkSURBVDiNjZRtaJVlGMd/1/08zzln5zjP1LWcU9N0NkN8m2CYjpgQYQXqSs0I84OLIC0hkEKoPtiH3gmKoiJDU7QpLgoLjLIQCpEsNJ1vqUOdO7ppbuec5+V+rj4ctwzd8IIbbi6u+8f1539dt3A78eXC7QizUF7gyV1fD1Yqg4JWz84yffhm0qkFqBogB9rM8tZdtwVsPUhWhGcFJngGeWrPzHm5oaMmkfEg1usvLFyc8jLRqDOMru7AyC8saQr7GG7f5fvDeH7Ej8CM66nIF+8yngt6HWaKh7k49Soy9nXurCi1o3qUbS3zWfrYeQDTB/Qj6kX6Ybhw4B+bOYoLKCC9H3Nu/leUTZ1JdRWkkn2ldcCamzrcf47KKXdAJllSlxAOkRgyHsGC/zRday5Qld9DyoM4/q/rUoy/CXh3jzOu3bHUVZeU+DEn8FInkPBFlu3+nW3Nw0mk6vCDiWg8CeJaxEwuHS3+z5RgY+YBR6V1Z1nxSOfoaPa4LASWxxdNp+VWTk7+4vzaou8v8PN+xo+KY2xsw6une2frhw05CTYOmQvsEhjhWjn0bmXPjpE1+kplmmkP3suftwTubK9Vq22qKmrBhpY4jvd5afdRA3wGjFAgcnTK2s4hY0/GPNIb0nErGMCRxWOOX64Z8RAC4oCXdklmEvcL8o0BfkNK4lUg9HTl+oPlQxdNo3Mg4Nv175e/1LDGzZen30MEjRUtmXSfiTVu1kK8W4txyV6BMKlbgk3lMwYCiusNy9fVfvvwMxv8Ynl6vxoByANLTWplvuj/nF9m2+PDtt1eiHPBr1oIfhCChQMBw6Aw0UulqTKZdfVvfG7VcfIqLG9bcldL/+pdWTLxLUy8Qq38heUIjh4XlzZxzQm19lLFlr8vdQ97rjZVOLf8nclzckbcD4wxXMidpX30sFd37Fv/GtwwhzhxGVAprjbg0gCAEeIgwCZyTV2Z1REEW8O4py0wsjeloKoMr6iCY6dP92H6Vw/oTyICIthibxjm/DfN9lVz8IqtqKYLUXfoKVMVQVVJOElGjrnnUt9T9wbgp8AyYKaGlqingHZU/uG2NTZSVqwHQTWkx9hxjkpWDaCg6Ckj5qebgBVbT3V3NNXMSiWSDdGV3hrtzla7J+duwPOToIg42ChPQOQjspnSlp1V+Gjdged7+8UN5CRAV7a5EdFNwCjEaBR27b3W890TE7g24NAP/mMDXRWrGoFPQI9ls/MWO2dWFAar/xcOIImbbpA3zgAAAABJRU5ErkJggg==);\n",
       "        }\n",
       "    </style>\n",
       "    <div>\n",
       "        <a href=\"https://bokeh.org\" target=\"_blank\" class=\"bk-notebook-logo\"></a>\n",
       "        <span id=\"f6315755-1c79-4317-abcd-2737eff03bf3\">Loading BokehJS ...</span>\n",
       "    </div>\n"
      ]
     },
     "metadata": {},
     "output_type": "display_data"
    },
    {
     "data": {
      "application/javascript": [
       "'use strict';\n",
       "(function(root) {\n",
       "  function now() {\n",
       "    return new Date();\n",
       "  }\n",
       "\n",
       "  const force = true;\n",
       "\n",
       "  if (typeof root._bokeh_onload_callbacks === \"undefined\" || force === true) {\n",
       "    root._bokeh_onload_callbacks = [];\n",
       "    root._bokeh_is_loading = undefined;\n",
       "  }\n",
       "\n",
       "const JS_MIME_TYPE = 'application/javascript';\n",
       "  const HTML_MIME_TYPE = 'text/html';\n",
       "  const EXEC_MIME_TYPE = 'application/vnd.bokehjs_exec.v0+json';\n",
       "  const CLASS_NAME = 'output_bokeh rendered_html';\n",
       "\n",
       "  /**\n",
       "   * Render data to the DOM node\n",
       "   */\n",
       "  function render(props, node) {\n",
       "    const script = document.createElement(\"script\");\n",
       "    node.appendChild(script);\n",
       "  }\n",
       "\n",
       "  /**\n",
       "   * Handle when an output is cleared or removed\n",
       "   */\n",
       "  function handleClearOutput(event, handle) {\n",
       "    function drop(id) {\n",
       "      const view = Bokeh.index.get_by_id(id)\n",
       "      if (view != null) {\n",
       "        view.model.document.clear()\n",
       "        Bokeh.index.delete(view)\n",
       "      }\n",
       "    }\n",
       "\n",
       "    const cell = handle.cell;\n",
       "\n",
       "    const id = cell.output_area._bokeh_element_id;\n",
       "    const server_id = cell.output_area._bokeh_server_id;\n",
       "\n",
       "    // Clean up Bokeh references\n",
       "    if (id != null) {\n",
       "      drop(id)\n",
       "    }\n",
       "\n",
       "    if (server_id !== undefined) {\n",
       "      // Clean up Bokeh references\n",
       "      const cmd_clean = \"from bokeh.io.state import curstate; print(curstate().uuid_to_server['\" + server_id + \"'].get_sessions()[0].document.roots[0]._id)\";\n",
       "      cell.notebook.kernel.execute(cmd_clean, {\n",
       "        iopub: {\n",
       "          output: function(msg) {\n",
       "            const id = msg.content.text.trim()\n",
       "            drop(id)\n",
       "          }\n",
       "        }\n",
       "      });\n",
       "      // Destroy server and session\n",
       "      const cmd_destroy = \"import bokeh.io.notebook as ion; ion.destroy_server('\" + server_id + \"')\";\n",
       "      cell.notebook.kernel.execute(cmd_destroy);\n",
       "    }\n",
       "  }\n",
       "\n",
       "  /**\n",
       "   * Handle when a new output is added\n",
       "   */\n",
       "  function handleAddOutput(event, handle) {\n",
       "    const output_area = handle.output_area;\n",
       "    const output = handle.output;\n",
       "\n",
       "    // limit handleAddOutput to display_data with EXEC_MIME_TYPE content only\n",
       "    if ((output.output_type != \"display_data\") || (!Object.prototype.hasOwnProperty.call(output.data, EXEC_MIME_TYPE))) {\n",
       "      return\n",
       "    }\n",
       "\n",
       "    const toinsert = output_area.element.find(\".\" + CLASS_NAME.split(' ')[0]);\n",
       "\n",
       "    if (output.metadata[EXEC_MIME_TYPE][\"id\"] !== undefined) {\n",
       "      toinsert[toinsert.length - 1].firstChild.textContent = output.data[JS_MIME_TYPE];\n",
       "      // store reference to embed id on output_area\n",
       "      output_area._bokeh_element_id = output.metadata[EXEC_MIME_TYPE][\"id\"];\n",
       "    }\n",
       "    if (output.metadata[EXEC_MIME_TYPE][\"server_id\"] !== undefined) {\n",
       "      const bk_div = document.createElement(\"div\");\n",
       "      bk_div.innerHTML = output.data[HTML_MIME_TYPE];\n",
       "      const script_attrs = bk_div.children[0].attributes;\n",
       "      for (let i = 0; i < script_attrs.length; i++) {\n",
       "        toinsert[toinsert.length - 1].firstChild.setAttribute(script_attrs[i].name, script_attrs[i].value);\n",
       "        toinsert[toinsert.length - 1].firstChild.textContent = bk_div.children[0].textContent\n",
       "      }\n",
       "      // store reference to server id on output_area\n",
       "      output_area._bokeh_server_id = output.metadata[EXEC_MIME_TYPE][\"server_id\"];\n",
       "    }\n",
       "  }\n",
       "\n",
       "  function register_renderer(events, OutputArea) {\n",
       "\n",
       "    function append_mime(data, metadata, element) {\n",
       "      // create a DOM node to render to\n",
       "      const toinsert = this.create_output_subarea(\n",
       "        metadata,\n",
       "        CLASS_NAME,\n",
       "        EXEC_MIME_TYPE\n",
       "      );\n",
       "      this.keyboard_manager.register_events(toinsert);\n",
       "      // Render to node\n",
       "      const props = {data: data, metadata: metadata[EXEC_MIME_TYPE]};\n",
       "      render(props, toinsert[toinsert.length - 1]);\n",
       "      element.append(toinsert);\n",
       "      return toinsert\n",
       "    }\n",
       "\n",
       "    /* Handle when an output is cleared or removed */\n",
       "    events.on('clear_output.CodeCell', handleClearOutput);\n",
       "    events.on('delete.Cell', handleClearOutput);\n",
       "\n",
       "    /* Handle when a new output is added */\n",
       "    events.on('output_added.OutputArea', handleAddOutput);\n",
       "\n",
       "    /**\n",
       "     * Register the mime type and append_mime function with output_area\n",
       "     */\n",
       "    OutputArea.prototype.register_mime_type(EXEC_MIME_TYPE, append_mime, {\n",
       "      /* Is output safe? */\n",
       "      safe: true,\n",
       "      /* Index of renderer in `output_area.display_order` */\n",
       "      index: 0\n",
       "    });\n",
       "  }\n",
       "\n",
       "  // register the mime type if in Jupyter Notebook environment and previously unregistered\n",
       "  if (root.Jupyter !== undefined) {\n",
       "    const events = require('base/js/events');\n",
       "    const OutputArea = require('notebook/js/outputarea').OutputArea;\n",
       "\n",
       "    if (OutputArea.prototype.mime_types().indexOf(EXEC_MIME_TYPE) == -1) {\n",
       "      register_renderer(events, OutputArea);\n",
       "    }\n",
       "  }\n",
       "  if (typeof (root._bokeh_timeout) === \"undefined\" || force === true) {\n",
       "    root._bokeh_timeout = Date.now() + 5000;\n",
       "    root._bokeh_failed_load = false;\n",
       "  }\n",
       "\n",
       "  const NB_LOAD_WARNING = {'data': {'text/html':\n",
       "     \"<div style='background-color: #fdd'>\\n\"+\n",
       "     \"<p>\\n\"+\n",
       "     \"BokehJS does not appear to have successfully loaded. If loading BokehJS from CDN, this \\n\"+\n",
       "     \"may be due to a slow or bad network connection. Possible fixes:\\n\"+\n",
       "     \"</p>\\n\"+\n",
       "     \"<ul>\\n\"+\n",
       "     \"<li>re-rerun `output_notebook()` to attempt to load from CDN again, or</li>\\n\"+\n",
       "     \"<li>use INLINE resources instead, as so:</li>\\n\"+\n",
       "     \"</ul>\\n\"+\n",
       "     \"<code>\\n\"+\n",
       "     \"from bokeh.resources import INLINE\\n\"+\n",
       "     \"output_notebook(resources=INLINE)\\n\"+\n",
       "     \"</code>\\n\"+\n",
       "     \"</div>\"}};\n",
       "\n",
       "  function display_loaded(error = null) {\n",
       "    const el = document.getElementById(\"f6315755-1c79-4317-abcd-2737eff03bf3\");\n",
       "    if (el != null) {\n",
       "      const html = (() => {\n",
       "        if (typeof root.Bokeh === \"undefined\") {\n",
       "          if (error == null) {\n",
       "            return \"BokehJS is loading ...\";\n",
       "          } else {\n",
       "            return \"BokehJS failed to load.\";\n",
       "          }\n",
       "        } else {\n",
       "          const prefix = `BokehJS ${root.Bokeh.version}`;\n",
       "          if (error == null) {\n",
       "            return `${prefix} successfully loaded.`;\n",
       "          } else {\n",
       "            return `${prefix} <b>encountered errors</b> while loading and may not function as expected.`;\n",
       "          }\n",
       "        }\n",
       "      })();\n",
       "      el.innerHTML = html;\n",
       "\n",
       "      if (error != null) {\n",
       "        const wrapper = document.createElement(\"div\");\n",
       "        wrapper.style.overflow = \"auto\";\n",
       "        wrapper.style.height = \"5em\";\n",
       "        wrapper.style.resize = \"vertical\";\n",
       "        const content = document.createElement(\"div\");\n",
       "        content.style.fontFamily = \"monospace\";\n",
       "        content.style.whiteSpace = \"pre-wrap\";\n",
       "        content.style.backgroundColor = \"rgb(255, 221, 221)\";\n",
       "        content.textContent = error.stack ?? error.toString();\n",
       "        wrapper.append(content);\n",
       "        el.append(wrapper);\n",
       "      }\n",
       "    } else if (Date.now() < root._bokeh_timeout) {\n",
       "      setTimeout(() => display_loaded(error), 100);\n",
       "    }\n",
       "  }\n",
       "\n",
       "  function run_callbacks() {\n",
       "    try {\n",
       "      root._bokeh_onload_callbacks.forEach(function(callback) {\n",
       "        if (callback != null)\n",
       "          callback();\n",
       "      });\n",
       "    } finally {\n",
       "      delete root._bokeh_onload_callbacks\n",
       "    }\n",
       "    console.debug(\"Bokeh: all callbacks have finished\");\n",
       "  }\n",
       "\n",
       "  function load_libs(css_urls, js_urls, callback) {\n",
       "    if (css_urls == null) css_urls = [];\n",
       "    if (js_urls == null) js_urls = [];\n",
       "\n",
       "    root._bokeh_onload_callbacks.push(callback);\n",
       "    if (root._bokeh_is_loading > 0) {\n",
       "      console.debug(\"Bokeh: BokehJS is being loaded, scheduling callback at\", now());\n",
       "      return null;\n",
       "    }\n",
       "    if (js_urls == null || js_urls.length === 0) {\n",
       "      run_callbacks();\n",
       "      return null;\n",
       "    }\n",
       "    console.debug(\"Bokeh: BokehJS not loaded, scheduling load and callback at\", now());\n",
       "    root._bokeh_is_loading = css_urls.length + js_urls.length;\n",
       "\n",
       "    function on_load() {\n",
       "      root._bokeh_is_loading--;\n",
       "      if (root._bokeh_is_loading === 0) {\n",
       "        console.debug(\"Bokeh: all BokehJS libraries/stylesheets loaded\");\n",
       "        run_callbacks()\n",
       "      }\n",
       "    }\n",
       "\n",
       "    function on_error(url) {\n",
       "      console.error(\"failed to load \" + url);\n",
       "    }\n",
       "\n",
       "    for (let i = 0; i < css_urls.length; i++) {\n",
       "      const url = css_urls[i];\n",
       "      const element = document.createElement(\"link\");\n",
       "      element.onload = on_load;\n",
       "      element.onerror = on_error.bind(null, url);\n",
       "      element.rel = \"stylesheet\";\n",
       "      element.type = \"text/css\";\n",
       "      element.href = url;\n",
       "      console.debug(\"Bokeh: injecting link tag for BokehJS stylesheet: \", url);\n",
       "      document.body.appendChild(element);\n",
       "    }\n",
       "\n",
       "    for (let i = 0; i < js_urls.length; i++) {\n",
       "      const url = js_urls[i];\n",
       "      const element = document.createElement('script');\n",
       "      element.onload = on_load;\n",
       "      element.onerror = on_error.bind(null, url);\n",
       "      element.async = false;\n",
       "      element.src = url;\n",
       "      console.debug(\"Bokeh: injecting script tag for BokehJS library: \", url);\n",
       "      document.head.appendChild(element);\n",
       "    }\n",
       "  };\n",
       "\n",
       "  function inject_raw_css(css) {\n",
       "    const element = document.createElement(\"style\");\n",
       "    element.appendChild(document.createTextNode(css));\n",
       "    document.body.appendChild(element);\n",
       "  }\n",
       "\n",
       "  const js_urls = [\"https://cdn.bokeh.org/bokeh/release/bokeh-3.6.2.min.js\", \"https://cdn.bokeh.org/bokeh/release/bokeh-gl-3.6.2.min.js\", \"https://cdn.bokeh.org/bokeh/release/bokeh-widgets-3.6.2.min.js\", \"https://cdn.bokeh.org/bokeh/release/bokeh-tables-3.6.2.min.js\", \"https://cdn.bokeh.org/bokeh/release/bokeh-mathjax-3.6.2.min.js\"];\n",
       "  const css_urls = [];\n",
       "\n",
       "  const inline_js = [    function(Bokeh) {\n",
       "      Bokeh.set_log_level(\"info\");\n",
       "    },\n",
       "function(Bokeh) {\n",
       "    }\n",
       "  ];\n",
       "\n",
       "  function run_inline_js() {\n",
       "    if (root.Bokeh !== undefined || force === true) {\n",
       "      try {\n",
       "            for (let i = 0; i < inline_js.length; i++) {\n",
       "      inline_js[i].call(root, root.Bokeh);\n",
       "    }\n",
       "\n",
       "      } catch (error) {display_loaded(error);throw error;\n",
       "      }if (force === true) {\n",
       "        display_loaded();\n",
       "      }} else if (Date.now() < root._bokeh_timeout) {\n",
       "      setTimeout(run_inline_js, 100);\n",
       "    } else if (!root._bokeh_failed_load) {\n",
       "      console.log(\"Bokeh: BokehJS failed to load within specified timeout.\");\n",
       "      root._bokeh_failed_load = true;\n",
       "    } else if (force !== true) {\n",
       "      const cell = $(document.getElementById(\"f6315755-1c79-4317-abcd-2737eff03bf3\")).parents('.cell').data().cell;\n",
       "      cell.output_area.append_execute_result(NB_LOAD_WARNING)\n",
       "    }\n",
       "  }\n",
       "\n",
       "  if (root._bokeh_is_loading === 0) {\n",
       "    console.debug(\"Bokeh: BokehJS loaded, going straight to plotting\");\n",
       "    run_inline_js();\n",
       "  } else {\n",
       "    load_libs(css_urls, js_urls, function() {\n",
       "      console.debug(\"Bokeh: BokehJS plotting callback run at\", now());\n",
       "      run_inline_js();\n",
       "    });\n",
       "  }\n",
       "}(window));"
      ],
      "application/vnd.bokehjs_load.v0+json": ""
     },
     "metadata": {},
     "output_type": "display_data"
    }
   ],
   "source": [
    "import numpy as np\n",
    "import scipy.integrate\n",
    "\n",
    "import bokeh.io\n",
    "import bokeh.plotting\n",
    "bokeh.io.output_notebook()"
   ]
  },
  {
   "cell_type": "markdown",
   "id": "f5426905",
   "metadata": {
    "language": "markdown"
   },
   "source": [
    "En esta lección, aprenderás sobre diferentes formas de interactuar con el intérprete de Python y, lo más importante, lo básico sobre cómo usar JupyterLab. Todas tus tareas se entregarán como notebooks de Jupyter, así que esto es algo que necesitarás dominar. Te será útil revisar [la introducción a LaTeX](intro_to_latex.ipynb) para aprender cómo usar $\\LaTeX$ en tus notebooks de Jupyter.\n",
    "\n",
    "Por supuesto, también deberías leer [la documentación oficial de JupyterLab](https://jupyterlab.readthedocs.io/en/stable/).\n",
    "\n",
    "Comenzaremos presentando el intérprete de Python."
   ]
  },
  {
   "cell_type": "markdown",
   "id": "16196f41",
   "metadata": {
    "language": "markdown"
   },
   "source": [
    "## El intérprete de Python\n",
    "\n",
    "Antes de profundizar en el intérprete de Python, quiero recordarte que este curso no está diseñado para enseñarte la sintaxis de Python (aunque la aprenderás). Lo que aprendas aquí te ayudará a entender cómo usar tu computadora para el análisis de datos en general. Piensa en esto así: parte de la misión de este curso es ayudarte a liberar el poder de tu computadora para resolver problemas biológicos. Python es solo el lenguaje de instrucción. Dicho esto, comencemos a hablar de cómo funciona Python.\n",
    "\n",
    "Python es un **lenguaje interpretado**, lo que significa que cada línea de código que escribes se traduce, o *interpreta*, en un conjunto de instrucciones que tu máquina puede entender mediante el **intérprete de Python**. Esto contrasta con los **lenguajes compilados**. Para estos lenguajes (los más dominantes son Fortran, C y C++), todo tu código se traduce a lenguaje de máquina antes de ejecutarlo. Cuando ejecutas tu programa, ya está en lenguaje de máquina.\n",
    "\n",
    "Así que, cada vez que quieras ejecutar tu código Python, se lo das al intérprete de Python.\n",
    "\n",
    "Hay muchas formas de iniciar el intérprete de Python. Una forma es escribir\n",
    "\n",
    "    python\n",
    "    \n",
    "en la línea de comandos. Esto inicia el intérprete de Python estándar. Realmente no usaremos esto en la clase. Más bien, tendremos una experiencia de Python *mucho* mejorada, ya sea usando **IPython**, una versión interactiva y mejorada de Python disponible a través de la consola de JupyterLab, o usando un **notebook**, también disponible en JupyterLab."
   ]
  },
  {
   "cell_type": "markdown",
   "id": "42029e1a",
   "metadata": {
    "language": "markdown"
   },
   "source": [
    "## \"Hola, mundo.\" y la función print()\n",
    "\n",
    "Tradicionalmente, el primer programa que alguien escribe al aprender un nuevo lenguaje se llama \"`Hola, mundo.`\" En este programa, las palabras \"`Hola, mundo.`\" se imprimen en la pantalla. El original fue probablemente escrito por [Brian Kernighan](https://es.wikipedia.org/wiki/Brian_Kernighan), uno de los inventores de Unix y autor del clásico [libro](https://es.wikipedia.org/wiki/The_C_Programming_Language) sobre el lenguaje C. En su versión original, el texto impreso era \"hello, world\" (sin punto ni H mayúscula), pero existen muchas variantes.\n",
    "\n",
    "Primero escribiremos y ejecutaremos este pequeño programa usando una consola de JupyterLab. Después de iniciar JupyterLab, probablemente ya tengas el Launcher en tu ventana de JupyterLab. Si no es así, puedes expandir la pestaña `Files` a la izquierda de la ventana de JupyterLab (si no está ya expandida) haciendo clic en esa pestaña, o alternativamente presionando `ctrl+b` (o `cmd+b` en macOS). En la parte superior de la pestaña `Files` hay un signo `+`, que te da acceso al Launcher de Jupyter.\n",
    "\n",
    "En el Launcher de Jupyter, haz clic en el ícono `Python 3` bajo `Console`. Esto abrirá una consola, que tiene un gran espacio en blanco sobre un prompt que dice `In []:`. Puedes ingresar código Python en este prompt y se ejecutará.\n",
    "\n",
    "Para imprimir `Hola, mundo.`, ingresa el siguiente código. Para ejecutarlo, presiona `shift+enter`."
   ]
  },
  {
   "cell_type": "code",
   "execution_count": null,
   "id": "e9e4c837",
   "metadata": {
    "language": "python"
   },
   "outputs": [],
   "source": [
    "print('Hola, mundo.')"
   ]
  },
  {
   "cell_type": "markdown",
   "id": "c21540a7",
   "metadata": {
    "language": "markdown"
   },
   "source": [
    "## Archivos .py\n",
    "\n",
    "Ahora usemos nuestro nuevo conocimiento de la función `print()` para que la computadora diga algo más que solo `Hola, mundo.` Escribe estas líneas en el prompt, presionando `enter` cada vez que necesites una nueva línea. Después de escribirlas todas, presiona `shift+enter` para ejecutarlas."
   ]
  },
  {
   "cell_type": "code",
   "execution_count": null,
   "id": "b19ffe50",
   "metadata": {
    "language": "python"
   },
   "outputs": [],
   "source": [
    "# Las primeras líneas del Zen de Python por Tim Peters\n",
    "print('Hermoso es mejor que feo.')\n",
    "print('Explícito es mejor que implícito.')\n",
    "print('Simple es mejor que complejo.')\n",
    "print('Complejo es mejor que complicado.')"
   ]
  },
  {
   "cell_type": "markdown",
   "id": "d5ad4b72",
   "metadata": {
    "language": "markdown"
   },
   "source": [
    "Nota que la primera línea está precedida por un signo `#`, y el intérprete de Python la ignora. El signo `#` denota un **comentario**, que es ignorado por el intérprete, *¡pero muy importante para los humanos!*\n",
    "\n",
    "Aunque el prompt de la consola fue útil para ingresar todo esto, una mejor opción es guardarlas en un archivo y luego hacer que el intérprete de Python ejecute las líneas del archivo. Así es como normalmente se almacena el código Python, y la extensión de estos archivos es `.py`.\n",
    "\n",
    "Así que, creemos un archivo `.py`. Para hacerlo, usa el Launcher de JupyterLab para abrir un editor de texto. Una vez abierto, puedes hacer clic derecho en la pestaña de la ventana del editor de texto para cambiar el nombre. Llamaremos a este archivo `zen.py`. Dentro de este archivo, ingresa las cuatro líneas de código que escribiste antes en la consola. Asegúrate de guardarlo.\n",
    "\n",
    "Para ejecutar el código de este archivo, puedes invocar el intérprete de Python en la línea de comandos, seguido del nombre del archivo. Es decir, escribe\n",
    "\n",
    "    python zen.py\n",
    "   \n",
    "en la línea de comandos. Nota que cuando ejecutas código de esta manera, el intérprete termina después de ejecutar el código y no obtienes un prompt.\n",
    "\n",
    "Para ejecutar el código de este archivo usando la consola de Jupyter, puedes usar la **función mágica** `%run`.\n",
    "\n",
    "    %run zen.py\n",
    "\n",
    "Para cerrar la consola, puedes hacer clic en la pestaña `Running` a la izquierda de la ventana de JupyterLab y hacer clic en `SHUTDOWN` junto a la consola."
   ]
  },
  {
   "cell_type": "markdown",
   "id": "cfde931b",
   "metadata": {
    "language": "markdown"
   },
   "source": [
    "## Jupyter\n",
    "\n",
    "Hasta este punto, hemos presentado JupyterLab, su editor de texto y la consola, así como el propio intérprete de Python. Quizás te estés preguntando..."
   ]
  },
  {
   "cell_type": "markdown",
   "id": "064559e6",
   "metadata": {
    "language": "markdown"
   },
   "source": [
    "### ¿Qué es Jupyter?\n",
    "\n",
    "De la [página oficial de Project Jupyter](http://jupyter.org):\n",
    ">Project Jupyter es un proyecto de código abierto que nació del Proyecto IPython en 2014, evolucionando para soportar la ciencia de datos interactiva y la computación científica en todos los lenguajes de programación.\n",
    "\n",
    "Así que, Jupyter es una extensión de IPython que lleva la computación interactiva más allá. Es independiente del lenguaje, como sugiere su nombre. El nombre \"Jupyter\" es una combinación de [Julia](http://julialang.org/) (un lenguaje excelente y reciente para computación científica), [Python](http://python.org/) (que ya conoces y amas), y [R](https://www.r-project.org) (la herramienta dominante para computación estadística). Sin embargo, puedes ejecutar más de 40 lenguajes diferentes en JupyterLab, no solo Julia, Python y R.\n",
    "\n",
    "Centrales en Jupyter/JupyterLab son los **notebooks de Jupyter**. De hecho, el documento que estás leyendo ahora fue generado desde un notebook de Jupyter. Usaremos notebooks de Jupyter extensamente en el curso, junto con archivos `.py`."
   ]
  },
  {
   "cell_type": "markdown",
   "id": "01a4c8db",
   "metadata": {
    "language": "markdown"
   },
   "source": [
    "### ¿Por qué notebooks de Jupyter?\n",
    "\n",
    "Cuando escribas código que reutilizarás, deberías desarrollar módulos completamente probados usando archivos `.py`. Siempre puedes importar esos módulos cuando uses un notebook de Jupyter. Así que, un notebook de Jupyter no es bueno para aplicaciones donde construyes código o scripts reutilizables. Sin embargo, los notebooks de Jupyter son **muy** útiles en las siguientes aplicaciones.\n",
    "\n",
    "1. *Exploración de datos/análisis.* Los notebooks de Jupyter son excelentes para probar cosas con código o explorar un conjunto de datos. Esto es una parte importante del proceso de investigación. El formato de los notebooks es ideal para organizar tus ideas mientras las sintetizas.\n",
    "2. *Desarrollo de pipelines de procesamiento de imágenes.* Esto es realmente un caso especial del punto anterior, pero vale la pena mencionarlo porque los notebooks de Jupyter son especialmente útiles para descubrir qué pasos son mejores para extraer datos útiles de imágenes, algo muy común en biología. Usando el notebook, puedes escribir lo que esperas lograr en cada paso y mostrar gráficamente los resultados como imágenes a medida que avanzas.\n",
    "3. *Compartir tu razonamiento en el análisis.* Como puedes combinar texto bien formateado y código ejecutable, los notebooks de Jupyter son ideales para compartir cómo realizas tus cálculos con colaboradores y lectores de tus publicaciones. Famosamente, LIGO usó [un notebook de Jupyter](https://losc.ligo.org/s/events/GW150914/GW150914_tutorial.html) para explicar el procesamiento de señales en su primer descubrimiento de una onda gravitacional.\n",
    "4. *Pedagogía.* Todo el contenido de esta clase, incluida esta lección, fue desarrollado usando notebooks de Jupyter.\n",
    "\n",
    "Ahora que sabemos qué son los notebooks de Jupyter y la motivación para usarlos, ¡comencemos!"
   ]
  },
  {
   "cell_type": "markdown",
   "id": "7260eee7",
   "metadata": {
    "language": "markdown"
   },
   "source": [
    "### Iniciar un notebook de Jupyter\n",
    "\n",
    "Para iniciar un notebook de Jupyter, haz clic en el ícono `Notebook` del Launcher de JupyterLab. Si quieres abrir un notebook existente, haz clic en él en la pestaña `Files` de la ventana de JupyterLab y ábrelo."
   ]
  },
  {
   "cell_type": "markdown",
   "id": "4073e92e",
   "metadata": {
    "language": "markdown"
   },
   "source": [
    "### Celdas\n",
    "\n",
    "Un notebook de Jupyter consiste en **celdas**. Los dos tipos principales de celdas que usarás son **celdas de código** y **celdas de markdown**, y profundizaremos en sus propiedades en breve. Primero, una visión general.\n",
    "\n",
    "Una celda de código contiene código real que quieres ejecutar. Puedes especificar una celda como celda de código usando el menú desplegable en la barra de herramientas de tu notebook. También puedes presionar `esc` y luego `y` (denotado como \"`esc, y`\") mientras una celda está seleccionada para especificar que es una celda de código. Debes presionar enter después de hacer esto para comenzar a editarla.\n",
    "\n",
    "Si quieres ejecutar el código en una celda de código, presiona \"`shift + enter`\". Nota que las celdas de código se ejecutan en el orden en que presionas \"`shift + enter`\". Es decir, el orden de las celdas que ejecutas es el orden en que el código se ejecuta. Si no ejecutaste explícitamente una celda al principio del documento, sus resultados no son conocidos por el intérprete de Python. **Este es un punto muy importante y a menudo es fuente de confusión y frustración para los estudiantes.**\n",
    "\n",
    "Las celdas de markdown contienen texto. El texto se escribe en **markdown**, un lenguaje de marcado ligero. Puedes leer sobre su sintaxis [aquí](http://daringfireball.net/projects/markdown/syntax). También puedes insertar HTML en las celdas de markdown, y esto se mostrará correctamente. Mientras escribes el contenido de estas celdas, los resultados aparecen como texto. Al presionar \"`shift + enter`\" el texto se muestra con el formato que especificaste.\n",
    "\n",
    "Puedes especificar una celda como celda de markdown en la barra de herramientas de Jupyter, o presionando \"`esc, m`\" en la celda. Nuevamente, debes presionar enter después de usar las teclas rápidas para entrar en modo de edición.\n",
    "\n",
    "En general, cuando quieras agregar una nueva celda, puedes hacer clic en el ícono `+` en la barra de herramientas del notebook. El atajo para insertar una celda debajo es \"`esc, b`\" y para insertar una celda arriba es \"`esc, a`\". Alternativamente, puedes ejecutar una celda y agregar automáticamente una nueva debajo presionando \"`alt + enter`\"."
   ]
  },
  {
   "cell_type": "markdown",
   "id": "76f4a698",
   "metadata": {
    "language": "markdown"
   },
   "source": [
    "### Celdas de código\n",
    "\n",
    "A continuación se muestra un ejemplo de una celda de código que imprime `hola, mundo.` Observa que la salida de la instrucción print aparece en la misma celda, aunque separada del bloque de código."
   ]
  },
  {
   "cell_type": "code",
   "execution_count": null,
   "id": "4f3ef9ad",
   "metadata": {
    "language": "python"
   },
   "outputs": [],
   "source": [
    "# Saluda al mundo.\n",
    "print('Hola, mundo.')"
   ]
  },
  {
   "cell_type": "markdown",
   "id": "d53df59e",
   "metadata": {
    "language": "markdown"
   },
   "source": [
    "Si evalúas una expresión de Python que devuelve un valor, ese valor se muestra como salida de la celda de código. Sin embargo, esto solo ocurre para la última línea de la celda de código."
   ]
  },
  {
   "cell_type": "code",
   "execution_count": null,
   "id": "a072e69a",
   "metadata": {
    "language": "python"
   },
   "outputs": [],
   "source": [
    "# Mostrará 9 si esta fuera la última línea, pero no lo es, así que no muestra nada\n",
    "4 + 5\n",
    "\n",
    "# Espero que veamos 11.\n",
    "5 + 6"
   ]
  },
  {
   "cell_type": "markdown",
   "id": "1a1783d4",
   "metadata": {
    "language": "markdown"
   },
   "source": [
    "Nota que si la última línea no devuelve un valor, como si asignamos una variable, no hay salida visible de la celda de código."
   ]
  },
  {
   "cell_type": "code",
   "execution_count": null,
   "id": "e927d850",
   "metadata": {
    "language": "python"
   },
   "outputs": [],
   "source": [
    "# Asignación de variable, así que no hay salida visible.\n",
    "a = 5 + 6"
   ]
  },
  {
   "cell_type": "code",
   "execution_count": null,
   "id": "6f4f47fb",
   "metadata": {
    "language": "python"
   },
   "outputs": [],
   "source": [
    "# Sin embargo, ahora si pedimos a, su valor se mostrará\n",
    "a"
   ]
  },
  {
   "cell_type": "markdown",
   "id": "85c62127",
   "metadata": {
    "language": "markdown"
   },
   "source": [
    "### Visualización de gráficos\n",
    "\n",
    "Usaremos [Bokeh](http://bokeh.pydata.org/) para comprobar que tu computador esta listo para trabajar, a pesar que utilizaremos exclusivamente [Plotly](https://plotly.com/) durante el curso. Para asegurarte de que los gráficos de Bokeh se muestren en el notebook, debes ejecutar\n",
    "\n",
    "    bokeh.io.output_notebook()\n",
    "    \n",
    "en tu notebook. Es buena práctica ejecutar esto en la primera celda del notebook. Ahora hagamos un gráfico usando Bokeh."
   ]
  },
  {
   "cell_type": "code",
   "execution_count": null,
   "id": "69fc6448",
   "metadata": {
    "language": "python"
   },
   "outputs": [],
   "source": [
    "# Generar datos para graficar\n",
    "x = np.linspace(0, 2 * np.pi, 200)\n",
    "y = np.exp(np.sin(np.sin(x)))\n",
    "\n",
    "# Configurar gráfico\n",
    "p = bokeh.plotting.figure(\n",
    "    frame_height=200,\n",
    "    frame_width=250,\n",
    "    x_axis_label='x',\n",
    "    y_axis_label='y',\n",
    "    x_range=[0, 2 * np.pi],\n",
    ")\n",
    "\n",
    "# Dibujar línea\n",
    "p.line(x, y, line_width=2)\n",
    "\n",
    "bokeh.io.show(p)"
   ]
  },
  {
   "cell_type": "markdown",
   "id": "496bed79",
   "metadata": {
    "language": "markdown"
   },
   "source": [
    "### Formato adecuado de las celdas\n",
    "\n",
    "En general, es buena idea mantener las celdas simples. Puedes definir una función, o tal vez dos o tres funciones estrechamente relacionadas, en una sola celda, y eso es suficiente. Cuando definas una función, asegúrate de que esté debidamente comentada con un docstring descriptivo. A continuación se muestra un ejemplo de cómo podría generar un gráfico del atractor de Lorenz (que elijo solo porque es divertido) con celdas de código y celdas de markdown explicando lo que hago. (El docstring en esta función es extenso, pero para las tareas basta con algo similar a la primera línea del docstring.)\n",
    "\n",
    "Entre celdas, deberías explicar con texto lo que estás haciendo. Veamos un ejemplo divertido.\n",
    "\n",
    "Usaremos `scipy.integrate.odeint()` para integrar numéricamente el atractor de Lorenz. Por lo tanto, primero definimos una función que devuelve el lado derecho del sistema de EDOs que define el atractor de Lorenz."
   ]
  },
  {
   "cell_type": "code",
   "execution_count": null,
   "id": "c45b8458",
   "metadata": {
    "language": "python"
   },
   "outputs": [],
   "source": [
    "def atractor_lorenz(r, t, p):\n",
    "    \"\"\"\n",
    "    Calcula el lado derecho del sistema de EDOs para el atractor de Lorenz.\n",
    "    \n",
    "    Parámetros\n",
    "    ----------\n",
    "    r : array_like, shape (3,)\n",
    "        Posición (x, y, z) de la trayectoria.\n",
    "    t : argumento_dummy\n",
    "        Argumento dummy, necesario para pasar la función a \n",
    "        scipy.integrate.odeint\n",
    "    p : array_like, shape (3,)\n",
    "        Parámetros (s, k, b) para el atractor.\n",
    "        \n",
    "    Retorna\n",
    "    -------\n",
    "    output : ndarray, shape (3,)\n",
    "        Derivadas temporales del atractor de Lorenz.\n",
    "        \n",
    "    Notas\n",
    "    -----\n",
    "    .. Retorna el lado derecho del sistema de EDOs que describe\n",
    "       el atractor de Lorenz.\n",
    "        x' = s * (y - x)\n",
    "        y' = x * (k - z) - y\n",
    "        z' = x * y - b * z\n",
    "    \"\"\"\n",
    "    # Desempaquetar variables y parámetros\n",
    "    x, y, z = r\n",
    "    s, p, b = p\n",
    "    \n",
    "    return np.array([s * (y - x), \n",
    "                     x * (p - z) - y, \n",
    "                     x * y - b * z])"
   ]
  },
  {
   "cell_type": "markdown",
   "id": "28d43032",
   "metadata": {
    "language": "markdown"
   },
   "source": [
    "Con esta función, solo tenemos que elegir nuestras condiciones iniciales y puntos de tiempo y ejecutar la integración numérica."
   ]
  },
  {
   "cell_type": "code",
   "execution_count": null,
   "id": "8d41466b",
   "metadata": {
    "language": "python"
   },
   "outputs": [],
   "source": [
    "# Parámetros a usar\n",
    "p = np.array([10.0, 28.0, 8.0 / 3.0])\n",
    "\n",
    "# Condición inicial\n",
    "r0 = np.array([0.1, 0.0, 0.0])\n",
    "\n",
    "# Puntos de tiempo a muestrear\n",
    "t = np.linspace(0.0, 30.0, 4000)\n",
    "\n",
    "# Usar scipy.integrate.odeint para integrar el atractor de Lorenz\n",
    "r = scipy.integrate.odeint(atractor_lorenz, r0, t, args=(p,))\n",
    "\n",
    "# Desempaquetar resultados en x, y, z.\n",
    "x, y, z = r.transpose()"
   ]
  },
  {
   "cell_type": "markdown",
   "id": "c9cb2969",
   "metadata": {
    "language": "markdown"
   },
   "source": [
    "Ahora, construiremos un gráfico de la trayectoria usando Bokeh."
   ]
  },
  {
   "cell_type": "code",
   "execution_count": null,
   "id": "0f3d1e3c",
   "metadata": {
    "language": "python"
   },
   "outputs": [],
   "source": [
    "# Configurar gráfico\n",
    "p = bokeh.plotting.figure(\n",
    "    frame_height=200,\n",
    "    frame_width=200,\n",
    "    x_axis_label='x',\n",
    "    y_axis_label='z',\n",
    ")\n",
    "\n",
    "# Dibujar línea\n",
    "p.line(x, z)\n",
    "\n",
    "bokeh.io.show(p)"
   ]
  },
  {
   "cell_type": "markdown",
   "id": "7450922b",
   "metadata": {
    "language": "markdown"
   },
   "source": [
    "### Buenas prácticas para celdas de código\n",
    "\n",
    "Aquí tienes un resumen de algunas reglas generales para componer y formatear tus celdas de código.\n",
    "\n",
    "1. Mantén el ancho del código en las celdas por debajo de 80 caracteres. No es un límite estricto, pero deberías intentarlo y considerar 88 caracteres como un límite duro.\n",
    "2. Mantén tus celdas de código cortas. Si tienes una celda de código muy grande, divídela.\n",
    "3. Proporciona docstrings completos para cualquier función que definas. Puedes y debes tener comentarios en tu código, pero realmente no deberías necesitar muchos porque tus celdas de markdown alrededor del código deberían describir claramente lo que intentas hacer.\n",
    "4. Haz todos tus imports en la primera celda de código al principio del notebook. Excepto por los imports del tipo \"`from ... import ...`\", importa un módulo por línea. También debes incluir `bokeh.io.output_notebook()` en la celda superior cuando uses Bokeh.\n",
    "5. Para entregar tareas, **siempre** muestra tus gráficos en el notebook."
   ]
  },
  {
   "cell_type": "markdown",
   "id": "c7c83cbc",
   "metadata": {
    "language": "markdown"
   },
   "source": [
    "### Celdas de markdown\n",
    "\n",
    "Las celdas de markdown contienen texto. El texto se escribe en **markdown**, un lenguaje de marcado ligero. La lista de construcciones sintácticas en [este enlace](http://daringfireball.net/projects/markdown/syntax) es prácticamente todo lo que necesitas saber para markdown estándar. También puedes insertar HTML en las celdas de markdown, y esto se mostrará correctamente. Mientras escribes el contenido de estas celdas, los resultados aparecen como texto. Al presionar \"`shift + enter`\" el texto se muestra con el formato que especificaste.\n",
    "\n",
    "Puedes especificar una celda como celda de markdown en la barra de herramientas de Jupyter, o presionando \"`esc, m`\" en la celda. Nuevamente, debes presionar enter después de usar las teclas rápidas para entrar en modo de edición.\n",
    "\n",
    "Además de HTML, puedes insertar algunas expresiones $\\LaTeX$ en las celdas de markdown. $\\LaTeX$ (pronunciado \"lay-tech\") es un lenguaje de marcado de documentos que usa el software de tipografía $\\TeX$. Es especialmente adecuado para la tipografía de expresiones matemáticas. En los notebooks de Jupyter, la entrada matemática de $\\LaTeX$ se muestra usando MathJax. Esto normalmente se ejecuta desde un servidor remoto, así que si no tienes conexión a internet, tus ecuaciones pueden no mostrarse. Usarás $\\LaTeX$ extensamente en la preparación de tus tareas. Hay muchos recursos en internet para comenzar con $\\LaTeX$, pero solo necesitarás una pequeña parte de su funcionalidad en tus tareas, y [la siguiente parte de esta lección](intro_a_latex.ipynb), además de hojas de referencia que puedes encontrar en Google (como [esta](https://www.ucm.es/data/cont/docs/1346-2020-01-07-LaTeX-OTEA-CheatSheet.pdf)), son útiles."
   ]
  },
  {
   "cell_type": "markdown",
   "id": "c0b479e4",
   "metadata": {
    "language": "markdown"
   },
   "source": [
    "### Atajos de teclado\n",
    "\n",
    "Hay algunos atajos de teclado que son convenientes de usar en JupyterLab. (No todos funcionan en Colab.) Ya vimos `Shift + Enter` para ejecutar una celda de código. Importante: presionar `Esc` te lleva al modo comando, en el que no editas el contenido de una celda, sino que haces cosas como agregar celdas. A continuación algunos atajos útiles. Si dos teclas están separadas por un signo `+`, se presionan simultáneamente, y si están separadas por un `-`, se presionan en sucesión.\n",
    "\n",
    "|Atajo | modo | acción |\n",
    "|:---:|:---:|:---:|\n",
    "|`Esc - m` | comando | cambiar celda a markdown|\n",
    "|`Esc - y` | comando | cambiar celda a código|\n",
    "|`Esc - a` | comando | insertar celda arriba|\n",
    "|`Esc - b` | comando | insertar celda abajo|\n",
    "|`Esc - d - d` | comando | borrar celda|\n",
    "|`Alt + Enter` | edición | ejecutar celda e insertar una debajo |\n",
    "\n",
    "Hay muchos otros (y se muestran en los menús desplegables dentro de JupyterLab), pero estos son los que más uso."
   ]
  },
  {
   "cell_type": "markdown",
   "id": "00b473aa",
   "metadata": {
    "language": "markdown"
   },
   "source": [
    "## Renderizado de notebooks como HTML\n",
    "\n",
    "Cuando entregues tareas, también deberás entregar una versión HTML de tus notebooks. Para guardar un notebook como HTML, haz clic en `File` → `Export Notebook As...` → `Export Notebook to HTML`."
   ]
  }
 ],
 "metadata": {
  "kernelspec": {
   "display_name": "base",
   "language": "python",
   "name": "python3"
  },
  "language_info": {
   "codemirror_mode": {
    "name": "ipython",
    "version": 3
   },
   "file_extension": ".py",
   "mimetype": "text/x-python",
   "name": "python",
   "nbconvert_exporter": "python",
   "pygments_lexer": "ipython3",
   "version": "3.13.5"
  }
 },
 "nbformat": 4,
 "nbformat_minor": 5
}
